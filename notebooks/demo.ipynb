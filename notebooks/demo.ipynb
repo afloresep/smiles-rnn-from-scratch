{
 "cells": [
  {
   "cell_type": "markdown",
   "metadata": {},
   "source": [
    "## Load data for example purposes"
   ]
  },
  {
   "cell_type": "code",
   "execution_count": 1,
   "metadata": {},
   "outputs": [],
   "source": [
    "import sys\n",
    "import os\n",
    "\n",
    "# Set project root as import path\n",
    "project_root = os.path.abspath(\"..\")\n",
    "if project_root not in sys.path:\n",
    "    sys.path.append(project_root)\n",
    "\n",
    "# Now import should work\n",
    "from src.preprocess import Preprocessor, Tokenizer\n",
    "preprocessor = Preprocessor()\n",
    "tokenizer = Tokenizer()\n",
    "\n",
    "data = preprocessor.load_data(\"/Users/afloresep/side_projects/smiles-rnn-from-scratch/data/smiles.txt\")"
   ]
  },
  {
   "cell_type": "markdown",
   "metadata": {},
   "source": [
    "### Show Tokenization and Detokenization"
   ]
  },
  {
   "cell_type": "code",
   "execution_count": 3,
   "metadata": {},
   "outputs": [
    {
     "name": "stdout",
     "output_type": "stream",
     "text": [
      "CC(NC(=O)[C@@H](N)CN=[N+]=[N-])C1=CNN=C1\n",
      "[1, 1, 2, 8, 1, 2, 7, 4, 3, 20, 2, 8, 3, 1, 8, 7, 26, 7, 46, 3, 1, 5, 7, 1, 8, 8, 7, 1, 5]\n",
      "CC(NC(=O)[C@@H](N)CN=[N+]=[N-])C1=CNN=C1\n"
     ]
    }
   ],
   "source": [
    "tokenizer.load_vocab(\"../data/vocab.json\")\n",
    "smiles= \"CC(NC(=O)[C@@H](N)CN=[N+]=[N-])C1=CNN=C1\"\n",
    "\n",
    "tokenize_smiles= tokenizer.tokenize(smiles)\n",
    "detokenize_token= tokenizer.detokenize(tokenize_smiles)\n",
    "\n",
    "print(smiles)\n",
    "print(tokenize_smiles)\n",
    "print(detokenize_token)"
   ]
  }
 ],
 "metadata": {
  "kernelspec": {
   "display_name": "rnn_scratch",
   "language": "python",
   "name": "python3"
  },
  "language_info": {
   "codemirror_mode": {
    "name": "ipython",
    "version": 3
   },
   "file_extension": ".py",
   "mimetype": "text/x-python",
   "name": "python",
   "nbconvert_exporter": "python",
   "pygments_lexer": "ipython3",
   "version": "3.13.1"
  }
 },
 "nbformat": 4,
 "nbformat_minor": 2
}
